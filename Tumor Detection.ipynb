{
  "nbformat": 4,
  "nbformat_minor": 0,
  "metadata": {
    "colab": {
      "provenance": [],
      "authorship_tag": "ABX9TyOl/lhHZpWlBqwdsL0BOE6F",
      "include_colab_link": true
    },
    "kernelspec": {
      "name": "python3",
      "display_name": "Python 3"
    },
    "language_info": {
      "name": "python"
    }
  },
  "cells": [
    {
      "cell_type": "markdown",
      "metadata": {
        "id": "view-in-github",
        "colab_type": "text"
      },
      "source": [
        "<a href=\"https://colab.research.google.com/github/Obamium37/Brain-Tumor-Detection/blob/main/Tumor%20Detection.ipynb\" target=\"_parent\"><img src=\"https://colab.research.google.com/assets/colab-badge.svg\" alt=\"Open In Colab\"/></a>"
      ]
    },
    {
      "cell_type": "code",
      "execution_count": 1,
      "metadata": {
        "id": "1DQ9ePx_B0fu"
      },
      "outputs": [],
      "source": [
        "import os\n",
        "import numpy as np\n",
        "from keras.preprocessing.image import ImageDataGenerator\n",
        "from keras.models import Sequential\n",
        "from keras.layers import Conv2D, MaxPooling2D, Flatten, Dense\n",
        "from sklearn.metrics import classification_report\n",
        "from keras.preprocessing import image\n",
        "from PIL import Image\n",
        "import tensorflow as tf\n",
        "import matplotlib.pyplot as plt\n",
        "from sklearn.metrics import confusion_matrix\n"
      ]
    },
    {
      "cell_type": "code",
      "source": [
        "from google.colab import drive\n",
        "\n",
        "# Mount Google Drive\n",
        "drive.mount('/content/drive')"
      ],
      "metadata": {
        "colab": {
          "base_uri": "https://localhost:8080/"
        },
        "id": "8pqMNosAB3Zq",
        "outputId": "001e301d-a27b-4da1-ebdb-686a28710a77"
      },
      "execution_count": 2,
      "outputs": [
        {
          "output_type": "stream",
          "name": "stdout",
          "text": [
            "Mounted at /content/drive\n"
          ]
        }
      ]
    },
    {
      "cell_type": "code",
      "source": [
        "train_dir = \"/content/drive/MyDrive/train\"\n",
        "test_dir = \"/content/drive/MyDrive/test\"\n",
        "specified_test_dir = '/content/drive/MyDrive/detection_tester'"
      ],
      "metadata": {
        "id": "TlXTNOcOWWR6"
      },
      "execution_count": 29,
      "outputs": []
    },
    {
      "cell_type": "code",
      "source": [
        "# Set the image dimensions\n",
        "img_width, img_height = 150, 150\n",
        "\n",
        "# Set the number of training and test samples\n",
        "train_samples = sum([len(files) for _, _, files in os.walk(train_dir)])\n",
        "test_samples = sum([len(files) for _, _, files in os.walk(test_dir)])\n",
        "specified_test_samples = sum([len(files) for _, _, files in os.walk(specified_test_dir)])"
      ],
      "metadata": {
        "id": "p_qsd3iVW6eJ"
      },
      "execution_count": 30,
      "outputs": []
    },
    {
      "cell_type": "code",
      "source": [
        "# Set the number of epochs and batch size\n",
        "epochs = 20\n",
        "batch_size = 50"
      ],
      "metadata": {
        "id": "EVkc9qn8XVmI"
      },
      "execution_count": 53,
      "outputs": []
    },
    {
      "cell_type": "code",
      "source": [
        "train_datagen = ImageDataGenerator(rescale=1./255,\n",
        "                                   shear_range=0.2,\n",
        "                                   zoom_range=0.2,\n",
        "                                   horizontal_flip=True)"
      ],
      "metadata": {
        "id": "LWouHkqQXbR4"
      },
      "execution_count": 54,
      "outputs": []
    },
    {
      "cell_type": "code",
      "source": [
        "# Only normalization for the test set\n",
        "test_datagen = ImageDataGenerator(rescale=1./255)\n",
        "\n",
        "# Load and preprocess the training set\n",
        "train_set = train_datagen.flow_from_directory(train_dir,\n",
        "                                              target_size=(img_width, img_height),\n",
        "                                              batch_size=batch_size,\n",
        "                                              class_mode='binary')\n",
        "\n",
        "# Load and preprocess the test set\n",
        "test_set = test_datagen.flow_from_directory(test_dir,\n",
        "                                            target_size=(img_width, img_height),\n",
        "                                            batch_size=batch_size,\n",
        "                                            class_mode='binary')"
      ],
      "metadata": {
        "colab": {
          "base_uri": "https://localhost:8080/"
        },
        "id": "t2wqMIiSXcrZ",
        "outputId": "858a3552-f5b2-4fef-de97-edac6b747354"
      },
      "execution_count": 55,
      "outputs": [
        {
          "output_type": "stream",
          "name": "stdout",
          "text": [
            "Found 253 images belonging to 2 classes.\n",
            "Found 6 images belonging to 2 classes.\n"
          ]
        }
      ]
    },
    {
      "cell_type": "code",
      "source": [
        "# Build the CNN model\n",
        "model = Sequential()\n",
        "model.add(Conv2D(32, (3, 3), activation='relu', input_shape=(img_width, img_height, 3)))\n",
        "model.add(MaxPooling2D(pool_size=(2, 2)))\n",
        "model.add(Conv2D(32, (3, 3), activation='relu'))\n",
        "model.add(MaxPooling2D(pool_size=(2, 2)))\n",
        "model.add(Flatten())\n",
        "model.add(Dense(units=128, activation='relu'))\n",
        "model.add(Dense(units=1, activation='sigmoid'))\n",
        "\n",
        "# Compile the model\n",
        "model.compile(optimizer='adam', loss='binary_crossentropy', metrics=['accuracy'])\n"
      ],
      "metadata": {
        "id": "lYI9Ew4PXgKO"
      },
      "execution_count": 56,
      "outputs": []
    },
    {
      "cell_type": "code",
      "source": [
        "train_acc = []\n",
        "train_loss = []\n",
        "\n",
        "# Custom callback to track training accuracy\n",
        "class TrainingAccuracyCallback(tf.keras.callbacks.Callback):\n",
        "    def on_epoch_end(self, epoch, logs=None):\n",
        "        train_acc.append(logs['accuracy'])\n",
        "\n",
        "model.fit(train_set,\n",
        "          steps_per_epoch=train_samples // batch_size,\n",
        "          epochs=epochs,\n",
        "          validation_data=test_set,\n",
        "          validation_steps=test_samples // batch_size,\n",
        "          callbacks=[TrainingAccuracyCallback()])"
      ],
      "metadata": {
        "colab": {
          "base_uri": "https://localhost:8080/"
        },
        "id": "VZ77zaGyXkm6",
        "outputId": "5a7e104c-96b8-43cc-b1c4-6375747edfd8"
      },
      "execution_count": 57,
      "outputs": [
        {
          "output_type": "stream",
          "name": "stdout",
          "text": [
            "Epoch 1/20\n",
            "5/5 [==============================] - 18s 3s/step - loss: 1.6021 - accuracy: 0.5160\n",
            "Epoch 2/20\n",
            "5/5 [==============================] - 9s 2s/step - loss: 0.6675 - accuracy: 0.6305\n",
            "Epoch 3/20\n",
            "5/5 [==============================] - 8s 1s/step - loss: 0.6141 - accuracy: 0.6404\n",
            "Epoch 4/20\n",
            "5/5 [==============================] - 11s 2s/step - loss: 0.5888 - accuracy: 0.7340\n",
            "Epoch 5/20\n",
            "5/5 [==============================] - 9s 2s/step - loss: 0.5702 - accuracy: 0.6995\n",
            "Epoch 6/20\n",
            "5/5 [==============================] - 8s 1s/step - loss: 0.5582 - accuracy: 0.7192\n",
            "Epoch 7/20\n",
            "5/5 [==============================] - 10s 2s/step - loss: 0.5349 - accuracy: 0.7537\n",
            "Epoch 8/20\n",
            "5/5 [==============================] - 8s 2s/step - loss: 0.5182 - accuracy: 0.7635\n",
            "Epoch 9/20\n",
            "5/5 [==============================] - 10s 1s/step - loss: 0.4902 - accuracy: 0.7537\n",
            "Epoch 10/20\n",
            "5/5 [==============================] - 10s 2s/step - loss: 0.4945 - accuracy: 0.7685\n",
            "Epoch 11/20\n",
            "5/5 [==============================] - 8s 1s/step - loss: 0.4540 - accuracy: 0.7734\n",
            "Epoch 12/20\n",
            "5/5 [==============================] - 10s 2s/step - loss: 0.5509 - accuracy: 0.7280\n",
            "Epoch 13/20\n",
            "5/5 [==============================] - 10s 2s/step - loss: 0.5325 - accuracy: 0.7537\n",
            "Epoch 14/20\n",
            "5/5 [==============================] - 9s 2s/step - loss: 0.4673 - accuracy: 0.7586\n",
            "Epoch 15/20\n",
            "5/5 [==============================] - 10s 2s/step - loss: 0.4759 - accuracy: 0.7880\n",
            "Epoch 16/20\n",
            "5/5 [==============================] - 11s 2s/step - loss: 0.4604 - accuracy: 0.7488\n",
            "Epoch 17/20\n",
            "5/5 [==============================] - 8s 1s/step - loss: 0.4809 - accuracy: 0.7537\n",
            "Epoch 18/20\n",
            "5/5 [==============================] - 10s 1s/step - loss: 0.3809 - accuracy: 0.8424\n",
            "Epoch 19/20\n",
            "5/5 [==============================] - 11s 2s/step - loss: 0.4829 - accuracy: 0.7635\n",
            "Epoch 20/20\n",
            "5/5 [==============================] - 9s 1s/step - loss: 0.3436 - accuracy: 0.8621\n"
          ]
        },
        {
          "output_type": "execute_result",
          "data": {
            "text/plain": [
              "<keras.callbacks.History at 0x7fe0b152f820>"
            ]
          },
          "metadata": {},
          "execution_count": 57
        }
      ]
    },
    {
      "cell_type": "code",
      "source": [
        "# Make predictions on the test set\n",
        "y_pred = model.predict(test_set)\n",
        "y_pred = np.round(y_pred)\n",
        "\n",
        "# Convert the predictions to binary labels\n",
        "y_pred = [int(pred[0]) for pred in y_pred]\n",
        "\n",
        "# Get the true labels\n",
        "y_true = test_set.classes\n",
        "\n",
        "# Generate a classification report\n",
        "report = classification_report(y_true, y_pred)\n",
        "print(report)"
      ],
      "metadata": {
        "colab": {
          "base_uri": "https://localhost:8080/"
        },
        "id": "-S-BKpSxXpD5",
        "outputId": "fe6f2dd9-9111-4da5-a97d-38d36bc4d3ce"
      },
      "execution_count": 58,
      "outputs": [
        {
          "output_type": "stream",
          "name": "stdout",
          "text": [
            "1/1 [==============================] - 0s 342ms/step\n",
            "              precision    recall  f1-score   support\n",
            "\n",
            "           0       0.60      1.00      0.75         3\n",
            "           1       1.00      0.33      0.50         3\n",
            "\n",
            "    accuracy                           0.67         6\n",
            "   macro avg       0.80      0.67      0.62         6\n",
            "weighted avg       0.80      0.67      0.62         6\n",
            "\n"
          ]
        }
      ]
    },
    {
      "cell_type": "code",
      "source": [
        "# Plot training accuracy\n",
        "plt.plot(range(1, epochs+1), train_acc)\n",
        "plt.title('Training Accuracy')\n",
        "plt.xlabel('Epoch')\n",
        "plt.ylabel('Accuracy')\n",
        "plt.show()"
      ],
      "metadata": {
        "colab": {
          "base_uri": "https://localhost:8080/",
          "height": 472
        },
        "id": "dSWN8tFuJZvG",
        "outputId": "96675b80-3c6d-4cde-ebee-da1082505db3"
      },
      "execution_count": 59,
      "outputs": [
        {
          "output_type": "display_data",
          "data": {
            "text/plain": [
              "<Figure size 640x480 with 1 Axes>"
            ],
            "image/png": "[encoded data removed]"
          },
          "metadata": {}
        }
      ]
    },
    {
      "cell_type": "code",
      "source": [
        "cm = confusion_matrix(y_true, y_pred)\n",
        "plt.imshow(cm, cmap=plt.cm.Blues)\n",
        "plt.title('Confusion Matrix')\n",
        "plt.xlabel('Predicted')\n",
        "plt.ylabel('Actual')\n",
        "plt.xticks([0, 1], ['Non-Tumor', 'Tumor'])\n",
        "plt.yticks([0, 1], ['Non-Tumor', 'Tumor'])\n",
        "plt.colorbar()\n",
        "plt.show()"
      ],
      "metadata": {
        "colab": {
          "base_uri": "https://localhost:8080/",
          "height": 472
        },
        "id": "QWJxxoeRMC7x",
        "outputId": "dfd858bb-5dd3-40ec-de61-ecb76d198022"
      },
      "execution_count": 60,
      "outputs": [
        {
          "output_type": "display_data",
          "data": {
            "text/plain": [
              "<Figure size 640x480 with 2 Axes>"
            ],
            "image/png": "[encoded data removed]"
          },
          "metadata": {}
        }
      ]
    },
    {
      "cell_type": "code",
      "source": [
        "# Function to classify a single image\n",
        "class_labels = {0: 'Non-Tumor', 1: 'Tumor'}\n",
        "def classify_image(img_path):\n",
        "    img = tf.keras.preprocessing.image.load_img(img_path, target_size=(img_width, img_height))\n",
        "    img = tf.keras.preprocessing.image.img_to_array(img)\n",
        "    img = np.expand_dims(img, axis=0)\n",
        "    img = img / 255.0  # Normalize the image\n",
        "\n",
        "    prediction = model.predict(img)\n",
        "    class_index = int(np.round(prediction)[0][0])\n",
        "\n",
        "\n",
        "\n",
        "    if class_index == 1:\n",
        "      return 'Tumor'\n",
        "    else:\n",
        "      return 'Non-Tumor'\n",
        "\n",
        "\n",
        "\n",
        "# Specify the path to the image file in the test folder\n",
        "image_path = '/content/drive/MyDrive/test/yes/Y42.jpg'  # Replace with the path to your test image\n",
        "\n",
        "# Classify the image\n",
        "pred = classify_image(image_path)\n",
        "\n",
        "\n",
        "\n",
        "print(\"Image Classification:\", pred)"
      ],
      "metadata": {
        "colab": {
          "base_uri": "https://localhost:8080/"
        },
        "id": "6pxmWwn6aa7_",
        "outputId": "7ffcc51c-be84-4159-e311-15d30eb18fb7"
      },
      "execution_count": 61,
      "outputs": [
        {
          "output_type": "stream",
          "name": "stdout",
          "text": [
            "1/1 [==============================] - 0s 98ms/step\n",
            "Image Classification: Tumor\n"
          ]
        }
      ]
    }
  ]
}